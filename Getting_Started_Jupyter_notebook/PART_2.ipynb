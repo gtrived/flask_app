{
 "cells": [
  {
   "cell_type": "markdown",
   "metadata": {},
   "source": [
    "# Part II - Exploratory Data Analysis (EDA)\n"
   ]
  },
  {
   "cell_type": "markdown",
   "metadata": {},
   "source": [
    "## Analysis:Number of comments Vs Number of upvotes\n",
    "\n",
    "   Using the data collected in Part I. Understanding the data collected.  \n",
    "    \n",
    "   Number of upvotes can depict peoples interest and support towards a specific topic.Number of comments can be      either in favor or can express conflict.\n",
    "   \n",
    "   1.If more number of comments and more number of upvotes : it will be an interesting and liked topic.\n",
    "   2.If more number of comments and less number of upvotes : it can be conflicting topic\n",
    "   3.If less number of comments and more number of upvotes : it will be a liked topic.\n",
    "   4.If less number of comments and less number of upvotes : it will be not an interesting or liked topic\n",
    "   \n",
    "   Flair with maximum number of comments or upvotes can be classified as trending flair."
   ]
  },
  {
   "cell_type": "code",
   "execution_count": 6,
   "metadata": {},
   "outputs": [
    {
     "data": {
      "image/png": "[encoded data removed]",
      "text/plain": [
       "<Figure size 720x360 with 1 Axes>"
      ]
     },
     "metadata": {
      "needs_background": "light"
     },
     "output_type": "display_data"
    }
   ],
   "source": [
    "import pandas as pd\n",
    "import matplotlib.pyplot as plt\n",
    "import numpy as np\n",
    "\n",
    "posts = pd.read_csv('sample_update_final.csv')\n",
    "#flairs = [\"AskIndia\", \"Non-Political\", \"[R]eddiquette\", \"Scheduled\", \"Photography\", \"Science/Technology\", \"Politics\", \"Business/Finance\", \"Policy/Economy\", \"Sports\", \"Food\", \"AMA\"]\n",
    "\n",
    "flairs_comments = {\"AskIndia\":0,\"Non-Political\":0,\"[R]eddiquette\":0,\"Scheduled\":0,\"Photography\":0,\"Science/Technology\":0,\"Politics\":0, \"Business/Finance\":0, \"Policy/Economy\":0, \"Sports\":0, \"Food\":0, \"AMA\":0}\n",
    "flairs_score = {\"AskIndia\":0,\"Non-Political\":0,\"[R]eddiquette\":0,\"Scheduled\":0,\"Photography\":0,\"Science/Technology\":0,\"Politics\":0, \"Business/Finance\":0, \"Policy/Economy\":0, \"Sports\":0, \"Food\":0, \"AMA\":0}\n",
    "\n",
    "\n",
    "comments = posts.groupby(['flair'])['num_comments'].agg('sum')\n",
    "upvotes = posts.groupby(['flair'])['score'].agg('sum')\n",
    "\n",
    "raw_data = {\n",
    "\t\t\t'flair' : [\"AskIndia\", \"Non-Political\", \"[R]eddiquette\", \"Scheduled\", \"Photography\", \"Science/Technology\", \"Politics\", \"Business/Finance\", \"Policy/Economy\", \"Sports\", \"Food\", \"AMA\"],\n",
    "\t\t\t'comments' : comments,\n",
    "\t\t\t'upvotes' : upvotes\t\t\t\t\n",
    "\t\t\t}\n",
    "\n",
    "\n",
    "\n",
    "graph = pd.DataFrame(raw_data,columns=['flair','comments','upvotes'])\n",
    "\n",
    "pos = list(range(len(graph['comments'])))\n",
    "width = 0.25\n",
    "\n",
    "fig, ax = plt.subplots(figsize=(10,5))\n",
    "\n",
    "#print(graph['flair'][0])\n",
    "\n",
    "plt.bar(\n",
    "\t\tpos,\n",
    "\t\tgraph['comments'],\n",
    "\t\twidth,\n",
    "\t\talpha = 0.5,\n",
    "\t\tcolor='#EE3224', \n",
    "\t\tlabel = graph['flair'][0]\n",
    "\t\t)\n",
    "\n",
    "plt.bar([p + width for p in pos], \n",
    "        #using df['mid_score'] data,\n",
    "        graph['upvotes'],\n",
    "        # of width\n",
    "        width, \n",
    "        # with alpha 0.5\n",
    "        alpha=0.5, \n",
    "        # with color\n",
    "        color='#F78F1E', \n",
    "        # with label the second value in first_name\n",
    "        label=graph['flair'][1])\n",
    "\n",
    "ax.set_ylabel('Number')\n",
    "\n",
    "# Set the chart's title\n",
    "ax.set_title('Comparison')\n",
    "\n",
    "# Set the position of the x ticks\n",
    "ax.set_xticks([p + 1.5 * width for p in pos])\n",
    "\n",
    "# Set the labels for the x ticks\n",
    "ax.set_xticklabels(graph['flair'])\n",
    "\n",
    "# Setting the x-axis and y-axis limits\n",
    "plt.xlim(min(pos)-width, max(pos)+width*4)\n",
    "plt.ylim([0, max(graph['comments']+graph['upvotes'])])\n",
    "\n",
    "# Adding the legend and showing the plot\n",
    "plt.legend(['Number of Comments', 'Number of Upvotes'], loc='upper left')\n",
    "plt.grid()\n",
    "plt.show()"
   ]
  }
 ],
 "metadata": {
  "kernelspec": {
   "display_name": "Python 3",
   "language": "python",
   "name": "python3"
  },
  "language_info": {
   "codemirror_mode": {
    "name": "ipython",
    "version": 3
   },
   "file_extension": ".py",
   "mimetype": "text/x-python",
   "name": "python",
   "nbconvert_exporter": "python",
   "pygments_lexer": "ipython3",
   "version": "3.7.6"
  }
 },
 "nbformat": 4,
 "nbformat_minor": 4
}
